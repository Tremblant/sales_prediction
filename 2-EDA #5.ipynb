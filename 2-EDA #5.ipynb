{
 "cells": [
  {
   "cell_type": "markdown",
   "metadata": {},
   "source": [
    "# XGBOOST PARAMETERS\n",
    "\n",
    "    The overall parameters have been divided into 3 categories by XGBoost authors:\n",
    "\n",
    "1. General Parameters: Guide the overall functioning\n",
    "2. Booster Parameters: Guide the individual booster (tree/regression) at each step\n",
    "3. Learning Task Parameters: Guide the optimization performed\n",
    "\n",
    "https://www.analyticsvidhya.com/blog/2016/02/complete-guide-parameter-tuning-gradient-boosting-gbm-python/\n",
    "\n",
    "## General Parameters\n",
    "\n",
    "    These define the overall functionality of XGBoost.\n",
    "\n",
    "1. booster [default=gbtree]\n",
    "\n",
    "        Select the type of model to run at each iteration. It has 2 options:\n",
    "    - gbtree: tree-based models\n",
    "    - gblinear: linear models\n",
    "\n",
    "2. silent [default=0]:\n",
    "\n",
    "    - Silent mode is activated is set to 1, i.e. no running messages will be printed.\n",
    "    - It's generally good to keep it 0 as the messages might help in understanding the model.\n",
    "\n",
    "\n",
    "3. nthread [default to maximum number of threads available if not set]\n",
    "\n",
    "    - This is used for parallel processing and number of cores in the system should be entered\n",
    "    - If you wish to run on all cores, value should not be entered and algorithm will detect automatically\n",
    "\n",
    "\n",
    "            There are 2 more parameters which are set automatically by XGBoost and you need not worry about them. Lets move on to Booster parameters.  \n",
    "    \n",
    "## Booster Parameters\n",
    "\n",
    "    Though there are 2 types of boosters, I'll consider only tree booster here because it always outperforms the linear booster and thus the later is rarely used.\n",
    "\n",
    "1. eta [default=0.3]\n",
    "\n",
    "    - Analogous to learning rate in GBM\n",
    "    - Makes the model more robust by shrinking the weights on each step\n",
    "    - Typical final values to be used: 0.01-0.2\n",
    "\n",
    "2. min_child_weight [default=1]\n",
    "\n",
    "    - Defines the minimum sum of weights of all observations required in a child.\n",
    "    - This is similar to min_child_leaf in GBM but not exactly. This refers to min \"sum of weights\" of observations while GBM has min \"number of observations\".\n",
    "    - Used to control over-fitting. Higher values prevent a model from learning relations which might be highly specific to the particular sample selected for a tree.\n",
    "    - Too high values can lead to under-fitting hence, it should be tuned using CV.\n",
    "\n",
    "3. max_depth [default=6]\n",
    "\n",
    "    - The maximum depth of a tree, same as GBM.\n",
    "    - Used to control over-fitting as higher depth will allow model to learn relations very specific to a particular sample.\n",
    "    - Should be tuned using CV.\n",
    "    - Typical values: 3-10\n",
    "\n",
    "4. max_leaf_nodes\n",
    "\n",
    "    - The maximum number of terminal nodes or leaves in a tree.\n",
    "    - Can be defined in place of max_depth. Since binary trees are created, a depth of 'n' would produce a maximum of 2^n leaves.\n",
    "    - If this is defined, GBM will ignore max_depth.\n",
    "\n",
    "5. gamma [default=0]\n",
    "\n",
    "    - A node is split only when the resulting split gives a positive reduction in the loss function. Gamma specifies the minimum loss reduction required to make a split.\n",
    "    - Makes the algorithm conservative. The values can vary depending on the loss function and should be tuned.\n",
    "\n",
    "6. max_delta_step [default=0]\n",
    "\n",
    "    - In maximum delta step we allow each tree’s weight estimation to be. If the value is set to 0, it means there is no constraint. If it is set to a positive value, it can help making the update step more conservative.\n",
    "    - Usually this parameter is not needed, but it might help in logistic regression when class is extremely imbalanced.\n",
    "    - This is generally not used but you can explore further if you wish.\n",
    "\n",
    "7. subsample [default=1]\n",
    "\n",
    "    - Same as the subsample of GBM. Denotes the fraction of observations to be randomly samples for each tree.\n",
    "    - Lower values make the algorithm more conservative and prevents overfitting but too small values might lead to under-fitting.\n",
    "    - Typical values: 0.5-1\n",
    "\n",
    "8. colsample_bytree [default=1]\n",
    "\n",
    "    - Similar to max_features in GBM. Denotes the fraction of columns to be randomly samples for each tree.\n",
    "    - Typical values: 0.5-1\n",
    "\n",
    "9. colsample_bylevel [default=1]\n",
    "\n",
    "    - Denotes the subsample ratio of columns for each split, in each level.\n",
    "    - I don't use this often because subsample and colsample_bytree will do the job for you. but you can explore further if you feel so.\n",
    "\n",
    "10. lambda [default=1]\n",
    "\n",
    "    - L2 regularization term on weights (analogous to Ridge regression)\n",
    "    - This used to handle the regularization part of XGBoost. Though many data scientists don't use it often, it should be explored to reduce overfitting.\n",
    "\n",
    "11. alpha [default=0]\n",
    "\n",
    "    - L1 regularization term on weight (analogous to Lasso regression)\n",
    "    - Can be used in case of very high dimensionality so that the algorithm runs faster when implemented\n",
    "\n",
    "12. scale_pos_weight [default=1]\n",
    "\n",
    "    - A value greater than 0 should be used in case of high class imbalance as it helps in faster convergence.  \n",
    "\n",
    "## Learning Task Parameters\n",
    "\n",
    "    These parameters are used to define the optimization objective the metric to be calculated at each step.\n",
    "\n",
    "1. objective [default=reg:linear]\n",
    "\n",
    "        This defines the loss function to be minimized. Mostly used values are:\n",
    "\n",
    "    - binary:logistic –logistic regression for binary classification, returns predicted probability (not class)\n",
    "    - multi:softmax –multiclass classification using the softmax objective, returns predicted class (not probabilities)\n",
    "    \n",
    "you also need to set an additional num_class (number of classes) parameter defining the number of unique classes\n",
    "\n",
    "    - multi:softprob –same as softmax, but returns predicted probability of each data point belonging to each class.\n",
    "\n",
    "2. eval_metric [ default according to objective ]\n",
    "\n",
    "    - The metric to be used for validation data.\n",
    "    - The default values are rmse for regression and error for classification.\n",
    "    - Typical values are:\n",
    "    \n",
    "        - rmse - root mean square error\n",
    "        - mae - mean absolute error\n",
    "        - logloss - negative log-likelihood\n",
    "        - error - Binary classification error rate (0.5 threshold)\n",
    "        - merror - Multiclass classification error rate\n",
    "        - mlogloss - Multiclass logloss\n",
    "        - auc: Area under the curve\n",
    "\n",
    "3. seed [default=0]\n",
    "\n",
    "    - The random number seed.\n",
    "    - Can be used for generating reproducible results and also for parameter tuning.\n",
    "\n",
    "\n",
    "            If you've been using Scikit-Learn till now, these parameter names might not look familiar. A good news is that xgboost module in python has an sklearn wrapper called XGBClassifier. It uses sklearn style naming convention. The parameters names which will change are:\n",
    "\n",
    "    - eta --> learning_rate\n",
    "    - lambda --> reg_lambda\n",
    "    - alpha --> reg_alpha\n",
    "\n",
    "\n",
    "            You must be wondering that we have defined everything except something similar to the \"n_estimators\" parameter in GBM. Well this exists as a parameter in XGBClassifier. However, it has to be passed as \"num_boosting_rounds\" while calling the fit function in the standard xgboost implementation.\n",
    "\n",
    "            I recommend you to go through the following parts of xgboost guide to better understand the parameters and codes:\n",
    "\n",
    "1. XGBoost Parameters (official guide)... https://xgboost.readthedocs.io/en/latest/parameter.html#general-parameters\n",
    "2. XGBoost Demo Codes (xgboost GitHub repository)... https://github.com/dmlc/xgboost/tree/master/demo/guide-python\n",
    "3. Python API Reference (official guide)... https://xgboost.readthedocs.io/en/latest/python/python_api.html\n",
    "\n",
    "\n",
    "## Parameter Tuning with Example"
   ]
  },
  {
   "cell_type": "code",
   "execution_count": 3,
   "metadata": {},
   "outputs": [],
   "source": [
    "#import libraries:\n",
    "import pandas as pd\n",
    "import numpy as np\n",
    "import math\n",
    "import xgboost as xgb\n",
    "from xgboost.sklearn import XGBRegressor\n",
    "from sklearn import metrics\n",
    "from sklearn.model_selection import train_test_split, GridSearchCV, cross_val_score\n",
    "#from sklearn.grid_search import GridSearchCV #performing grid search\n",
    "import matplotlib.pylab as plt\n",
    "from datetime import datetime #to access datetime\n",
    "from pathlib import Path #to create path to directories and files\n",
    "from sklearn.metrics import mean_squared_error\n",
    "%matplotlib inline\n",
    "from matplotlib.pylab import rcParams\n",
    "rcParams['figure.figsize'] = 12,4\n",
    "import warnings #to ignore the warnings\n",
    "warnings.filterwarnings('ignore')"
   ]
  },
  {
   "cell_type": "markdown",
   "metadata": {},
   "source": [
    "    Note that I have imported 2 forms of XGBoost:\n",
    "\n",
    "1. xgb - this is the direct xgboost library. I will use a specific function \"cv\" from this library\n",
    "2. XGBClassifier - this is an sklearn wrapper for XGBoost. This allows us to use sklearn's Grid Search with parallel processing in the same way we did for GBM\n",
    "\n",
    "        Before proceeding further, lets define a function which will help us create XGBoost models and perform cross-validation. The best part is that you can take this function as it is and use it later for your own models."
   ]
  },
  {
   "cell_type": "code",
   "execution_count": 24,
   "metadata": {},
   "outputs": [],
   "source": [
    "today = datetime.today()\n",
    "train_original = Path.cwd() /'data'/'raw'/'Train_File.csv'\n",
    "test_original = Path.cwd() /'data'/'raw'/'Test_File.csv'\n",
    "summary_file_train = Path.cwd() /'data'/'processed'/f'summary_train{today:%b-%d-%Y}.pkl'\n",
    "summary_file_test = Path.cwd() /'data'/'processed'/f'summary_test{today:%b-%d-%Y}.pkl'"
   ]
  },
  {
   "cell_type": "code",
   "execution_count": 25,
   "metadata": {},
   "outputs": [],
   "source": [
    "#reading data\n",
    "train = pd.read_pickle(summary_file_train)\n",
    "target = 'Item_Outlet_Sales'\n",
    "train = train.drop(['Item_Identifier', 'Outlet_Identifier'], axis=1)"
   ]
  },
  {
   "cell_type": "code",
   "execution_count": 26,
   "metadata": {},
   "outputs": [
    {
     "data": {
      "text/plain": [
       "(8523, 32)"
      ]
     },
     "execution_count": 26,
     "metadata": {},
     "output_type": "execute_result"
    }
   ],
   "source": [
    "train.shape"
   ]
  },
  {
   "cell_type": "code",
   "execution_count": 28,
   "metadata": {},
   "outputs": [],
   "source": [
    "#feature scaling\n",
    "from sklearn_pandas import DataFrameMapper\n",
    "\n",
    "mapper = DataFrameMapper([(train.columns, StandardScaler())])\n",
    "scaled_features = mapper.fit_transform(train.copy(), 32)\n",
    "scaled_features_train = pd.DataFrame(scaled_features, index=train.index, columns=train.columns)"
   ]
  },
  {
   "cell_type": "code",
   "execution_count": 29,
   "metadata": {},
   "outputs": [],
   "source": [
    "train = scaled_features_train"
   ]
  },
  {
   "cell_type": "code",
   "execution_count": 30,
   "metadata": {},
   "outputs": [
    {
     "data": {
      "text/html": [
       "<div>\n",
       "<style scoped>\n",
       "    .dataframe tbody tr th:only-of-type {\n",
       "        vertical-align: middle;\n",
       "    }\n",
       "\n",
       "    .dataframe tbody tr th {\n",
       "        vertical-align: top;\n",
       "    }\n",
       "\n",
       "    .dataframe thead th {\n",
       "        text-align: right;\n",
       "    }\n",
       "</style>\n",
       "<table border=\"1\" class=\"dataframe\">\n",
       "  <thead>\n",
       "    <tr style=\"text-align: right;\">\n",
       "      <th></th>\n",
       "      <th>Item_MRP</th>\n",
       "      <th>Item_Outlet_Sales</th>\n",
       "      <th>Item_Visibility</th>\n",
       "      <th>Item_Weight</th>\n",
       "      <th>Outlet_Years</th>\n",
       "      <th>Item_Visibility_MeanRatio</th>\n",
       "      <th>Item_Fat_Content_0</th>\n",
       "      <th>Item_Fat_Content_1</th>\n",
       "      <th>Item_Fat_Content_2</th>\n",
       "      <th>Outlet_Location_Type_0</th>\n",
       "      <th>...</th>\n",
       "      <th>Outlet_0</th>\n",
       "      <th>Outlet_1</th>\n",
       "      <th>Outlet_2</th>\n",
       "      <th>Outlet_3</th>\n",
       "      <th>Outlet_4</th>\n",
       "      <th>Outlet_5</th>\n",
       "      <th>Outlet_6</th>\n",
       "      <th>Outlet_7</th>\n",
       "      <th>Outlet_8</th>\n",
       "      <th>Outlet_9</th>\n",
       "    </tr>\n",
       "  </thead>\n",
       "  <tbody>\n",
       "    <tr>\n",
       "      <th>0</th>\n",
       "      <td>1.747454</td>\n",
       "      <td>0.910601</td>\n",
       "      <td>-1.081039</td>\n",
       "      <td>-0.769246</td>\n",
       "      <td>-0.139541</td>\n",
       "      <td>-0.550399</td>\n",
       "      <td>1.084133</td>\n",
       "      <td>-0.480558</td>\n",
       "      <td>-0.738147</td>\n",
       "      <td>1.602840</td>\n",
       "      <td>...</td>\n",
       "      <td>-0.263920</td>\n",
       "      <td>-0.350395</td>\n",
       "      <td>-0.349128</td>\n",
       "      <td>-0.349551</td>\n",
       "      <td>-0.256985</td>\n",
       "      <td>-0.351028</td>\n",
       "      <td>-0.349973</td>\n",
       "      <td>-0.349762</td>\n",
       "      <td>-0.349973</td>\n",
       "      <td>2.857362</td>\n",
       "    </tr>\n",
       "    <tr>\n",
       "      <th>1</th>\n",
       "      <td>-1.489023</td>\n",
       "      <td>-1.018440</td>\n",
       "      <td>-1.016230</td>\n",
       "      <td>-1.496813</td>\n",
       "      <td>-1.334103</td>\n",
       "      <td>-0.540631</td>\n",
       "      <td>-0.922396</td>\n",
       "      <td>-0.480558</td>\n",
       "      <td>1.354743</td>\n",
       "      <td>-0.623893</td>\n",
       "      <td>...</td>\n",
       "      <td>-0.263920</td>\n",
       "      <td>-0.350395</td>\n",
       "      <td>-0.349128</td>\n",
       "      <td>2.860816</td>\n",
       "      <td>-0.256985</td>\n",
       "      <td>-0.351028</td>\n",
       "      <td>-0.349973</td>\n",
       "      <td>-0.349762</td>\n",
       "      <td>-0.349973</td>\n",
       "      <td>-0.349973</td>\n",
       "    </tr>\n",
       "    <tr>\n",
       "      <th>2</th>\n",
       "      <td>0.010040</td>\n",
       "      <td>-0.049238</td>\n",
       "      <td>-1.066741</td>\n",
       "      <td>0.995858</td>\n",
       "      <td>-0.139541</td>\n",
       "      <td>-0.429470</td>\n",
       "      <td>1.084133</td>\n",
       "      <td>-0.480558</td>\n",
       "      <td>-0.738147</td>\n",
       "      <td>1.602840</td>\n",
       "      <td>...</td>\n",
       "      <td>-0.263920</td>\n",
       "      <td>-0.350395</td>\n",
       "      <td>-0.349128</td>\n",
       "      <td>-0.349551</td>\n",
       "      <td>-0.256985</td>\n",
       "      <td>-0.351028</td>\n",
       "      <td>-0.349973</td>\n",
       "      <td>-0.349762</td>\n",
       "      <td>-0.349973</td>\n",
       "      <td>2.857362</td>\n",
       "    </tr>\n",
       "    <tr>\n",
       "      <th>3</th>\n",
       "      <td>0.660050</td>\n",
       "      <td>-0.849103</td>\n",
       "      <td>-1.045193</td>\n",
       "      <td>1.361794</td>\n",
       "      <td>-0.020085</td>\n",
       "      <td>-0.262906</td>\n",
       "      <td>-0.922396</td>\n",
       "      <td>-0.480558</td>\n",
       "      <td>1.354743</td>\n",
       "      <td>-0.623893</td>\n",
       "      <td>...</td>\n",
       "      <td>3.789031</td>\n",
       "      <td>-0.350395</td>\n",
       "      <td>-0.349128</td>\n",
       "      <td>-0.349551</td>\n",
       "      <td>-0.256985</td>\n",
       "      <td>-0.351028</td>\n",
       "      <td>-0.349973</td>\n",
       "      <td>-0.349762</td>\n",
       "      <td>-0.349973</td>\n",
       "      <td>-0.349973</td>\n",
       "    </tr>\n",
       "    <tr>\n",
       "      <th>4</th>\n",
       "      <td>-1.399220</td>\n",
       "      <td>-0.695373</td>\n",
       "      <td>-1.206757</td>\n",
       "      <td>-0.848890</td>\n",
       "      <td>1.293934</td>\n",
       "      <td>-0.262906</td>\n",
       "      <td>-0.922396</td>\n",
       "      <td>2.080915</td>\n",
       "      <td>-0.738147</td>\n",
       "      <td>-0.623893</td>\n",
       "      <td>...</td>\n",
       "      <td>-0.263920</td>\n",
       "      <td>2.853918</td>\n",
       "      <td>-0.349128</td>\n",
       "      <td>-0.349551</td>\n",
       "      <td>-0.256985</td>\n",
       "      <td>-0.351028</td>\n",
       "      <td>-0.349973</td>\n",
       "      <td>-0.349762</td>\n",
       "      <td>-0.349973</td>\n",
       "      <td>-0.349973</td>\n",
       "    </tr>\n",
       "  </tbody>\n",
       "</table>\n",
       "<p>5 rows × 32 columns</p>\n",
       "</div>"
      ],
      "text/plain": [
       "   Item_MRP  Item_Outlet_Sales  Item_Visibility  Item_Weight  Outlet_Years  \\\n",
       "0  1.747454           0.910601        -1.081039    -0.769246     -0.139541   \n",
       "1 -1.489023          -1.018440        -1.016230    -1.496813     -1.334103   \n",
       "2  0.010040          -0.049238        -1.066741     0.995858     -0.139541   \n",
       "3  0.660050          -0.849103        -1.045193     1.361794     -0.020085   \n",
       "4 -1.399220          -0.695373        -1.206757    -0.848890      1.293934   \n",
       "\n",
       "   Item_Visibility_MeanRatio  Item_Fat_Content_0  Item_Fat_Content_1  \\\n",
       "0                  -0.550399            1.084133           -0.480558   \n",
       "1                  -0.540631           -0.922396           -0.480558   \n",
       "2                  -0.429470            1.084133           -0.480558   \n",
       "3                  -0.262906           -0.922396           -0.480558   \n",
       "4                  -0.262906           -0.922396            2.080915   \n",
       "\n",
       "   Item_Fat_Content_2  Outlet_Location_Type_0  ...  Outlet_0  Outlet_1  \\\n",
       "0           -0.738147                1.602840  ... -0.263920 -0.350395   \n",
       "1            1.354743               -0.623893  ... -0.263920 -0.350395   \n",
       "2           -0.738147                1.602840  ... -0.263920 -0.350395   \n",
       "3            1.354743               -0.623893  ...  3.789031 -0.350395   \n",
       "4           -0.738147               -0.623893  ... -0.263920  2.853918   \n",
       "\n",
       "   Outlet_2  Outlet_3  Outlet_4  Outlet_5  Outlet_6  Outlet_7  Outlet_8  \\\n",
       "0 -0.349128 -0.349551 -0.256985 -0.351028 -0.349973 -0.349762 -0.349973   \n",
       "1 -0.349128  2.860816 -0.256985 -0.351028 -0.349973 -0.349762 -0.349973   \n",
       "2 -0.349128 -0.349551 -0.256985 -0.351028 -0.349973 -0.349762 -0.349973   \n",
       "3 -0.349128 -0.349551 -0.256985 -0.351028 -0.349973 -0.349762 -0.349973   \n",
       "4 -0.349128 -0.349551 -0.256985 -0.351028 -0.349973 -0.349762 -0.349973   \n",
       "\n",
       "   Outlet_9  \n",
       "0  2.857362  \n",
       "1 -0.349973  \n",
       "2  2.857362  \n",
       "3 -0.349973  \n",
       "4 -0.349973  \n",
       "\n",
       "[5 rows x 32 columns]"
      ]
     },
     "execution_count": 30,
     "metadata": {},
     "output_type": "execute_result"
    }
   ],
   "source": [
    "train.head()"
   ]
  },
  {
   "cell_type": "code",
   "execution_count": 31,
   "metadata": {},
   "outputs": [],
   "source": [
    "def modelfit(alg, dtrain, predictors, useTrainCV = True, cv_folds=5, early_stopping_rounds=50):\n",
    "    if useTrainCV:\n",
    "        xgb_param = alg.get_xgb_params()\n",
    "        xgtrain = xgb.DMatrix(dtrain[predictors].values, label=dtrain[target].values)\n",
    "        cvresult = xgb.cv(xgb_param, xgtrain, num_boost_round=alg.get_xgb_params()['n_estimators'], nfold=cv_folds, metrics='auc', early_stopping_rounds=early_stopping_rounds, verbose_eval=None)\n",
    "        alg.set_params(n_estimators=cvresult.shape[0])\n",
    "        \n",
    "    #fit the algorithm on the data\n",
    "    alg.fit(dtrain[predictors], dtrain['Item_Outlet_Sales'], eval_metric='auc')\n",
    "    \n",
    "    #predict training set:\n",
    "    dtrain_predictions = alg.predict(dtrain[predictors])\n",
    "    dtrain_predprob = alg.predict_proba(dtrain[predictors])[:,1]\n",
    "    \n",
    "    #print model report:\n",
    "    print('\\nModel Report')\n",
    "    print('Accuracy: %.4g'%metrics.accuracy_score(dtrain['Item_Outlet_Sales'].values, dtrain_predictions))\n",
    "    print('AUC Score(Train): %f'%metrics.roc_auc_score(dtrain['Item_Outlet_Sales'], dtrain_predprob)) \n",
    "        \n",
    "    feat_imp = pd.Series(alg.get_booster().get_fscore()).sort_values(ascending=False)\n",
    "    feat_imp.plot(kind='bar', title='Feature Importance')\n",
    "    plt.ylabel('Feature Importance Score')\n",
    "              "
   ]
  },
  {
   "cell_type": "markdown",
   "metadata": {},
   "source": [
    "    Note that xgboost's sklearn wrapper doesn't have a \"feature_importances\" metric but a get_fscore() function which does the same job.\n",
    "\n",
    "\n",
    "### General Approach for Parameter Tuning\n",
    "\n",
    "    We will use an approach similar to that of GBM here. The various steps to be performed are:\n",
    "\n",
    "1. Choose a relatively high learning rate. Generally a learning rate of 0.1 works but somewhere between 0.05 to 0.3 should work for different problems. Determine the optimum number of trees for this learning rate. XGBoost has a very useful function called as \"cv\" which performs cross-validation at each boosting iteration and thus returns the optimum number of trees required.\n",
    "2. Tune tree-specific parameters ( max_depth, min_child_weight, gamma, subsample, colsample_bytree) for decided learning rate and number of trees. Note that we can choose different parameters to define a tree and I'll take up an example here.\n",
    "3. Tune regularization parameters (lambda, alpha) for xgboost which can help reduce model complexity and enhance performance.\n",
    "4. Lower the learning rate and decide the optimal parameters .\n",
    "\n",
    "        Let us look at a more detailed step by step approach.  \n",
    "\n",
    "#### Step 1: Fix learning rate and number of estimators for tuning tree-based parameters\n",
    "\n",
    "    In order to decide on boosting parameters, we need to set some initial values of other parameters. Lets take the following values:\n",
    "\n",
    "1. max_depth = 5 : This should be between 3-10. I've started with 5 but you can choose a different number as well. 4-6 can be good starting points.\n",
    "2. 3.min_child_weight = 1 : A smaller value is chosen because it is a highly imbalanced class problem and leaf nodes can have smaller size groups.\n",
    "3. gamma = 0 : A smaller value like 0.1-0.2 can also be chosen for starting. This will anyways be tuned later.\n",
    "4. subsample, colsample_bytree = 0.8 : This is a commonly used used start value. Typical values range between 0.5-0.9.\n",
    "5. scale_pos_weight = 1: Because of high class imbalance.\n",
    "\n",
    "        Please note that all the above are just initial estimates and will be tuned later. Lets take the default learning rate of 0.1 here and check the optimum number of trees using cv function of xgboost. The function defined above will do it for us."
   ]
  },
  {
   "cell_type": "code",
   "execution_count": 32,
   "metadata": {},
   "outputs": [
    {
     "ename": "XGBoostError",
     "evalue": "[21:59:46] /workspace/src/objective/regression_obj.cu:101: label must be in [0,1] for logistic regression\nStack trace:\n  [bt] (0) /home/tremblant/anaconda3/envs/prediction_env/xgboost/libxgboost.so(dmlc::LogMessageFatal::~LogMessageFatal()+0x24) [0x7ff6b4ba3cb4]\n  [bt] (1) /home/tremblant/anaconda3/envs/prediction_env/xgboost/libxgboost.so(xgboost::obj::RegLossObj<xgboost::obj::LogisticClassification>::GetGradient(xgboost::HostDeviceVector<float> const&, xgboost::MetaInfo const&, int, xgboost::HostDeviceVector<xgboost::detail::GradientPairInternal<float> >*)+0x805) [0x7ff6b4dad9d5]\n  [bt] (2) /home/tremblant/anaconda3/envs/prediction_env/xgboost/libxgboost.so(xgboost::LearnerImpl::UpdateOneIter(int, xgboost::DMatrix*)+0x345) [0x7ff6b4c3d505]\n  [bt] (3) /home/tremblant/anaconda3/envs/prediction_env/xgboost/libxgboost.so(XGBoosterUpdateOneIter+0x35) [0x7ff6b4ba0aa5]\n  [bt] (4) /home/tremblant/anaconda3/envs/prediction_env/lib/python3.7/lib-dynload/../../libffi.so.6(ffi_call_unix64+0x4c) [0x7ff6f528eec0]\n  [bt] (5) /home/tremblant/anaconda3/envs/prediction_env/lib/python3.7/lib-dynload/../../libffi.so.6(ffi_call+0x22d) [0x7ff6f528e87d]\n  [bt] (6) /home/tremblant/anaconda3/envs/prediction_env/lib/python3.7/lib-dynload/_ctypes.cpython-37m-x86_64-linux-gnu.so(_ctypes_callproc+0x2ce) [0x7ff6f54a401e]\n  [bt] (7) /home/tremblant/anaconda3/envs/prediction_env/lib/python3.7/lib-dynload/_ctypes.cpython-37m-x86_64-linux-gnu.so(+0x12a54) [0x7ff6f54a4a54]\n  [bt] (8) /home/tremblant/anaconda3/envs/prediction_env/bin/python(_PyObject_FastCallKeywords+0x49b) [0x55566dab519b]\n\n",
     "output_type": "error",
     "traceback": [
      "\u001b[0;31m---------------------------------------------------------------------------\u001b[0m",
      "\u001b[0;31mXGBoostError\u001b[0m                              Traceback (most recent call last)",
      "\u001b[0;32m<ipython-input-32-066ef5af27f5>\u001b[0m in \u001b[0;36m<module>\u001b[0;34m\u001b[0m\n\u001b[1;32m      2\u001b[0m \u001b[0mpredictors\u001b[0m \u001b[0;34m=\u001b[0m \u001b[0;34m[\u001b[0m\u001b[0mx\u001b[0m \u001b[0;32mfor\u001b[0m \u001b[0mx\u001b[0m \u001b[0;32min\u001b[0m \u001b[0mtrain\u001b[0m\u001b[0;34m.\u001b[0m\u001b[0mcolumns\u001b[0m \u001b[0;32mif\u001b[0m \u001b[0mx\u001b[0m \u001b[0;32mnot\u001b[0m \u001b[0;32min\u001b[0m \u001b[0mtarget\u001b[0m\u001b[0;34m]\u001b[0m\u001b[0;34m\u001b[0m\u001b[0;34m\u001b[0m\u001b[0m\n\u001b[1;32m      3\u001b[0m \u001b[0mxgb1\u001b[0m \u001b[0;34m=\u001b[0m \u001b[0mXGBRegressor\u001b[0m\u001b[0;34m(\u001b[0m\u001b[0mlearning_rate\u001b[0m\u001b[0;34m=\u001b[0m\u001b[0;36m0.1\u001b[0m\u001b[0;34m,\u001b[0m \u001b[0mn_estimators\u001b[0m\u001b[0;34m=\u001b[0m\u001b[0;36m1000\u001b[0m\u001b[0;34m,\u001b[0m \u001b[0mmax_depth\u001b[0m\u001b[0;34m=\u001b[0m\u001b[0;36m5\u001b[0m\u001b[0;34m,\u001b[0m \u001b[0mmin_child_weight\u001b[0m\u001b[0;34m=\u001b[0m\u001b[0;36m1\u001b[0m\u001b[0;34m,\u001b[0m \u001b[0mgamma\u001b[0m\u001b[0;34m=\u001b[0m\u001b[0;36m0\u001b[0m\u001b[0;34m,\u001b[0m \u001b[0msubsample\u001b[0m\u001b[0;34m=\u001b[0m\u001b[0;36m0.8\u001b[0m\u001b[0;34m,\u001b[0m \u001b[0mcolsample_bytree\u001b[0m\u001b[0;34m=\u001b[0m\u001b[0;36m0.8\u001b[0m\u001b[0;34m,\u001b[0m \u001b[0mobjective\u001b[0m\u001b[0;34m=\u001b[0m\u001b[0;34m'binary:logistic'\u001b[0m\u001b[0;34m,\u001b[0m \u001b[0mnthread\u001b[0m\u001b[0;34m=\u001b[0m\u001b[0;36m4\u001b[0m\u001b[0;34m,\u001b[0m \u001b[0mscale_pos_weight\u001b[0m\u001b[0;34m=\u001b[0m\u001b[0;36m1\u001b[0m\u001b[0;34m,\u001b[0m \u001b[0mseed\u001b[0m\u001b[0;34m=\u001b[0m\u001b[0;36m27\u001b[0m\u001b[0;34m)\u001b[0m\u001b[0;34m\u001b[0m\u001b[0;34m\u001b[0m\u001b[0m\n\u001b[0;32m----> 4\u001b[0;31m \u001b[0mmodelfit\u001b[0m\u001b[0;34m(\u001b[0m\u001b[0mxgb1\u001b[0m\u001b[0;34m,\u001b[0m \u001b[0mtrain\u001b[0m\u001b[0;34m,\u001b[0m \u001b[0mpredictors\u001b[0m\u001b[0;34m)\u001b[0m\u001b[0;34m\u001b[0m\u001b[0;34m\u001b[0m\u001b[0m\n\u001b[0m",
      "\u001b[0;32m<ipython-input-31-89a05c8a72d6>\u001b[0m in \u001b[0;36mmodelfit\u001b[0;34m(alg, dtrain, predictors, useTrainCV, cv_folds, early_stopping_rounds)\u001b[0m\n\u001b[1;32m      3\u001b[0m         \u001b[0mxgb_param\u001b[0m \u001b[0;34m=\u001b[0m \u001b[0malg\u001b[0m\u001b[0;34m.\u001b[0m\u001b[0mget_xgb_params\u001b[0m\u001b[0;34m(\u001b[0m\u001b[0;34m)\u001b[0m\u001b[0;34m\u001b[0m\u001b[0;34m\u001b[0m\u001b[0m\n\u001b[1;32m      4\u001b[0m         \u001b[0mxgtrain\u001b[0m \u001b[0;34m=\u001b[0m \u001b[0mxgb\u001b[0m\u001b[0;34m.\u001b[0m\u001b[0mDMatrix\u001b[0m\u001b[0;34m(\u001b[0m\u001b[0mdtrain\u001b[0m\u001b[0;34m[\u001b[0m\u001b[0mpredictors\u001b[0m\u001b[0;34m]\u001b[0m\u001b[0;34m.\u001b[0m\u001b[0mvalues\u001b[0m\u001b[0;34m,\u001b[0m \u001b[0mlabel\u001b[0m\u001b[0;34m=\u001b[0m\u001b[0mdtrain\u001b[0m\u001b[0;34m[\u001b[0m\u001b[0mtarget\u001b[0m\u001b[0;34m]\u001b[0m\u001b[0;34m.\u001b[0m\u001b[0mvalues\u001b[0m\u001b[0;34m)\u001b[0m\u001b[0;34m\u001b[0m\u001b[0;34m\u001b[0m\u001b[0m\n\u001b[0;32m----> 5\u001b[0;31m         \u001b[0mcvresult\u001b[0m \u001b[0;34m=\u001b[0m \u001b[0mxgb\u001b[0m\u001b[0;34m.\u001b[0m\u001b[0mcv\u001b[0m\u001b[0;34m(\u001b[0m\u001b[0mxgb_param\u001b[0m\u001b[0;34m,\u001b[0m \u001b[0mxgtrain\u001b[0m\u001b[0;34m,\u001b[0m \u001b[0mnum_boost_round\u001b[0m\u001b[0;34m=\u001b[0m\u001b[0malg\u001b[0m\u001b[0;34m.\u001b[0m\u001b[0mget_xgb_params\u001b[0m\u001b[0;34m(\u001b[0m\u001b[0;34m)\u001b[0m\u001b[0;34m[\u001b[0m\u001b[0;34m'n_estimators'\u001b[0m\u001b[0;34m]\u001b[0m\u001b[0;34m,\u001b[0m \u001b[0mnfold\u001b[0m\u001b[0;34m=\u001b[0m\u001b[0mcv_folds\u001b[0m\u001b[0;34m,\u001b[0m \u001b[0mmetrics\u001b[0m\u001b[0;34m=\u001b[0m\u001b[0;34m'auc'\u001b[0m\u001b[0;34m,\u001b[0m \u001b[0mearly_stopping_rounds\u001b[0m\u001b[0;34m=\u001b[0m\u001b[0mearly_stopping_rounds\u001b[0m\u001b[0;34m,\u001b[0m \u001b[0mverbose_eval\u001b[0m\u001b[0;34m=\u001b[0m\u001b[0;32mNone\u001b[0m\u001b[0;34m)\u001b[0m\u001b[0;34m\u001b[0m\u001b[0;34m\u001b[0m\u001b[0m\n\u001b[0m\u001b[1;32m      6\u001b[0m         \u001b[0malg\u001b[0m\u001b[0;34m.\u001b[0m\u001b[0mset_params\u001b[0m\u001b[0;34m(\u001b[0m\u001b[0mn_estimators\u001b[0m\u001b[0;34m=\u001b[0m\u001b[0mcvresult\u001b[0m\u001b[0;34m.\u001b[0m\u001b[0mshape\u001b[0m\u001b[0;34m[\u001b[0m\u001b[0;36m0\u001b[0m\u001b[0;34m]\u001b[0m\u001b[0;34m)\u001b[0m\u001b[0;34m\u001b[0m\u001b[0;34m\u001b[0m\u001b[0m\n\u001b[1;32m      7\u001b[0m \u001b[0;34m\u001b[0m\u001b[0m\n",
      "\u001b[0;32m~/anaconda3/envs/prediction_env/lib/python3.7/site-packages/xgboost/training.py\u001b[0m in \u001b[0;36mcv\u001b[0;34m(params, dtrain, num_boost_round, nfold, stratified, folds, metrics, obj, feval, maximize, early_stopping_rounds, fpreproc, as_pandas, verbose_eval, show_stdv, seed, callbacks, shuffle)\u001b[0m\n\u001b[1;32m    443\u001b[0m                            evaluation_result_list=None))\n\u001b[1;32m    444\u001b[0m         \u001b[0;32mfor\u001b[0m \u001b[0mfold\u001b[0m \u001b[0;32min\u001b[0m \u001b[0mcvfolds\u001b[0m\u001b[0;34m:\u001b[0m\u001b[0;34m\u001b[0m\u001b[0;34m\u001b[0m\u001b[0m\n\u001b[0;32m--> 445\u001b[0;31m             \u001b[0mfold\u001b[0m\u001b[0;34m.\u001b[0m\u001b[0mupdate\u001b[0m\u001b[0;34m(\u001b[0m\u001b[0mi\u001b[0m\u001b[0;34m,\u001b[0m \u001b[0mobj\u001b[0m\u001b[0;34m)\u001b[0m\u001b[0;34m\u001b[0m\u001b[0;34m\u001b[0m\u001b[0m\n\u001b[0m\u001b[1;32m    446\u001b[0m         \u001b[0mres\u001b[0m \u001b[0;34m=\u001b[0m \u001b[0maggcv\u001b[0m\u001b[0;34m(\u001b[0m\u001b[0;34m[\u001b[0m\u001b[0mf\u001b[0m\u001b[0;34m.\u001b[0m\u001b[0meval\u001b[0m\u001b[0;34m(\u001b[0m\u001b[0mi\u001b[0m\u001b[0;34m,\u001b[0m \u001b[0mfeval\u001b[0m\u001b[0;34m)\u001b[0m \u001b[0;32mfor\u001b[0m \u001b[0mf\u001b[0m \u001b[0;32min\u001b[0m \u001b[0mcvfolds\u001b[0m\u001b[0;34m]\u001b[0m\u001b[0;34m)\u001b[0m\u001b[0;34m\u001b[0m\u001b[0;34m\u001b[0m\u001b[0m\n\u001b[1;32m    447\u001b[0m \u001b[0;34m\u001b[0m\u001b[0m\n",
      "\u001b[0;32m~/anaconda3/envs/prediction_env/lib/python3.7/site-packages/xgboost/training.py\u001b[0m in \u001b[0;36mupdate\u001b[0;34m(self, iteration, fobj)\u001b[0m\n\u001b[1;32m    228\u001b[0m     \u001b[0;32mdef\u001b[0m \u001b[0mupdate\u001b[0m\u001b[0;34m(\u001b[0m\u001b[0mself\u001b[0m\u001b[0;34m,\u001b[0m \u001b[0miteration\u001b[0m\u001b[0;34m,\u001b[0m \u001b[0mfobj\u001b[0m\u001b[0;34m)\u001b[0m\u001b[0;34m:\u001b[0m\u001b[0;34m\u001b[0m\u001b[0;34m\u001b[0m\u001b[0m\n\u001b[1;32m    229\u001b[0m         \u001b[0;34m\"\"\"\"Update the boosters for one iteration\"\"\"\u001b[0m\u001b[0;34m\u001b[0m\u001b[0;34m\u001b[0m\u001b[0m\n\u001b[0;32m--> 230\u001b[0;31m         \u001b[0mself\u001b[0m\u001b[0;34m.\u001b[0m\u001b[0mbst\u001b[0m\u001b[0;34m.\u001b[0m\u001b[0mupdate\u001b[0m\u001b[0;34m(\u001b[0m\u001b[0mself\u001b[0m\u001b[0;34m.\u001b[0m\u001b[0mdtrain\u001b[0m\u001b[0;34m,\u001b[0m \u001b[0miteration\u001b[0m\u001b[0;34m,\u001b[0m \u001b[0mfobj\u001b[0m\u001b[0;34m)\u001b[0m\u001b[0;34m\u001b[0m\u001b[0;34m\u001b[0m\u001b[0m\n\u001b[0m\u001b[1;32m    231\u001b[0m \u001b[0;34m\u001b[0m\u001b[0m\n\u001b[1;32m    232\u001b[0m     \u001b[0;32mdef\u001b[0m \u001b[0meval\u001b[0m\u001b[0;34m(\u001b[0m\u001b[0mself\u001b[0m\u001b[0;34m,\u001b[0m \u001b[0miteration\u001b[0m\u001b[0;34m,\u001b[0m \u001b[0mfeval\u001b[0m\u001b[0;34m)\u001b[0m\u001b[0;34m:\u001b[0m\u001b[0;34m\u001b[0m\u001b[0;34m\u001b[0m\u001b[0m\n",
      "\u001b[0;32m~/anaconda3/envs/prediction_env/lib/python3.7/site-packages/xgboost/core.py\u001b[0m in \u001b[0;36mupdate\u001b[0;34m(self, dtrain, iteration, fobj)\u001b[0m\n\u001b[1;32m   1107\u001b[0m         \u001b[0;32mif\u001b[0m \u001b[0mfobj\u001b[0m \u001b[0;32mis\u001b[0m \u001b[0;32mNone\u001b[0m\u001b[0;34m:\u001b[0m\u001b[0;34m\u001b[0m\u001b[0;34m\u001b[0m\u001b[0m\n\u001b[1;32m   1108\u001b[0m             _check_call(_LIB.XGBoosterUpdateOneIter(self.handle, ctypes.c_int(iteration),\n\u001b[0;32m-> 1109\u001b[0;31m                                                     dtrain.handle))\n\u001b[0m\u001b[1;32m   1110\u001b[0m         \u001b[0;32melse\u001b[0m\u001b[0;34m:\u001b[0m\u001b[0;34m\u001b[0m\u001b[0;34m\u001b[0m\u001b[0m\n\u001b[1;32m   1111\u001b[0m             \u001b[0mpred\u001b[0m \u001b[0;34m=\u001b[0m \u001b[0mself\u001b[0m\u001b[0;34m.\u001b[0m\u001b[0mpredict\u001b[0m\u001b[0;34m(\u001b[0m\u001b[0mdtrain\u001b[0m\u001b[0;34m)\u001b[0m\u001b[0;34m\u001b[0m\u001b[0;34m\u001b[0m\u001b[0m\n",
      "\u001b[0;32m~/anaconda3/envs/prediction_env/lib/python3.7/site-packages/xgboost/core.py\u001b[0m in \u001b[0;36m_check_call\u001b[0;34m(ret)\u001b[0m\n\u001b[1;32m    174\u001b[0m     \"\"\"\n\u001b[1;32m    175\u001b[0m     \u001b[0;32mif\u001b[0m \u001b[0mret\u001b[0m \u001b[0;34m!=\u001b[0m \u001b[0;36m0\u001b[0m\u001b[0;34m:\u001b[0m\u001b[0;34m\u001b[0m\u001b[0;34m\u001b[0m\u001b[0m\n\u001b[0;32m--> 176\u001b[0;31m         \u001b[0;32mraise\u001b[0m \u001b[0mXGBoostError\u001b[0m\u001b[0;34m(\u001b[0m\u001b[0mpy_str\u001b[0m\u001b[0;34m(\u001b[0m\u001b[0m_LIB\u001b[0m\u001b[0;34m.\u001b[0m\u001b[0mXGBGetLastError\u001b[0m\u001b[0;34m(\u001b[0m\u001b[0;34m)\u001b[0m\u001b[0;34m)\u001b[0m\u001b[0;34m)\u001b[0m\u001b[0;34m\u001b[0m\u001b[0;34m\u001b[0m\u001b[0m\n\u001b[0m\u001b[1;32m    177\u001b[0m \u001b[0;34m\u001b[0m\u001b[0m\n\u001b[1;32m    178\u001b[0m \u001b[0;34m\u001b[0m\u001b[0m\n",
      "\u001b[0;31mXGBoostError\u001b[0m: [21:59:46] /workspace/src/objective/regression_obj.cu:101: label must be in [0,1] for logistic regression\nStack trace:\n  [bt] (0) /home/tremblant/anaconda3/envs/prediction_env/xgboost/libxgboost.so(dmlc::LogMessageFatal::~LogMessageFatal()+0x24) [0x7ff6b4ba3cb4]\n  [bt] (1) /home/tremblant/anaconda3/envs/prediction_env/xgboost/libxgboost.so(xgboost::obj::RegLossObj<xgboost::obj::LogisticClassification>::GetGradient(xgboost::HostDeviceVector<float> const&, xgboost::MetaInfo const&, int, xgboost::HostDeviceVector<xgboost::detail::GradientPairInternal<float> >*)+0x805) [0x7ff6b4dad9d5]\n  [bt] (2) /home/tremblant/anaconda3/envs/prediction_env/xgboost/libxgboost.so(xgboost::LearnerImpl::UpdateOneIter(int, xgboost::DMatrix*)+0x345) [0x7ff6b4c3d505]\n  [bt] (3) /home/tremblant/anaconda3/envs/prediction_env/xgboost/libxgboost.so(XGBoosterUpdateOneIter+0x35) [0x7ff6b4ba0aa5]\n  [bt] (4) /home/tremblant/anaconda3/envs/prediction_env/lib/python3.7/lib-dynload/../../libffi.so.6(ffi_call_unix64+0x4c) [0x7ff6f528eec0]\n  [bt] (5) /home/tremblant/anaconda3/envs/prediction_env/lib/python3.7/lib-dynload/../../libffi.so.6(ffi_call+0x22d) [0x7ff6f528e87d]\n  [bt] (6) /home/tremblant/anaconda3/envs/prediction_env/lib/python3.7/lib-dynload/_ctypes.cpython-37m-x86_64-linux-gnu.so(_ctypes_callproc+0x2ce) [0x7ff6f54a401e]\n  [bt] (7) /home/tremblant/anaconda3/envs/prediction_env/lib/python3.7/lib-dynload/_ctypes.cpython-37m-x86_64-linux-gnu.so(+0x12a54) [0x7ff6f54a4a54]\n  [bt] (8) /home/tremblant/anaconda3/envs/prediction_env/bin/python(_PyObject_FastCallKeywords+0x49b) [0x55566dab519b]\n\n"
     ]
    }
   ],
   "source": [
    "#choose all predictors except target& IDcols\n",
    "predictors = [x for x in train.columns if x not in target]\n",
    "xgb1 = XGBRegressor(learning_rate=0.1, n_estimators=1000, max_depth=5, min_child_weight=1, gamma=0, subsample=0.8, colsample_bytree=0.8, objective='binary:logistic', nthread=4, scale_pos_weight=1, seed=27)\n",
    "modelfit(xgb1, train, predictors)"
   ]
  },
  {
   "cell_type": "markdown",
   "metadata": {},
   "source": [
    "    As you can see that here we got 140 as the optimal estimators for 0.1 learning rate. Note that this value might be too high for you depending on the power of your system. In that case you can increase the learning rate and re-run the command to get the reduced number of estimators.\n",
    "\n",
    "    Note: You will see the test AUC as \"AUC Score (Test)\" in the outputs here. But this would not appear if you try to run the command on your system as the data is not made public. It's provided here just for reference. The part of the code which generates this output has been removed here.\n",
    "\n",
    " \n",
    "\n",
    "### Step 2: Tune max_depth and min_child_weight\n",
    "\n",
    "    We tune these first as they will have the highest impact on model outcome. To start with, let's set wider ranges and then we will perform another iteration for smaller ranges.\n",
    "\n",
    "    Important Note: I'll be doing some heavy-duty grid searched in this section which can take 15-30 mins or even more time to run depending on your system. You can vary the number of values you are testing based on what your system can handle."
   ]
  },
  {
   "cell_type": "code",
   "execution_count": 22,
   "metadata": {},
   "outputs": [
    {
     "data": {
      "text/plain": [
       "({'mean_fit_time': array([27.27466583, 30.10001359, 29.79898553, 51.35667572, 47.22623343,\n",
       "         45.16641121, 65.8068471 , 63.92036982, 61.85528131, 83.37239552,\n",
       "         79.95974412, 71.00905437]),\n",
       "  'std_fit_time': array([1.43264906, 0.36227539, 0.41200363, 0.67089888, 0.50462976,\n",
       "         0.81107477, 0.91186617, 1.04153016, 1.31304309, 1.02155906,\n",
       "         1.87938438, 7.71624731]),\n",
       "  'mean_score_time': array([0.35899596, 0.27004614, 0.29663057, 0.38817811, 0.29083495,\n",
       "         0.32521381, 0.34340482, 0.31801901, 0.31881828, 0.36119342,\n",
       "         0.34620228, 0.27184482]),\n",
       "  'std_score_time': array([0.06052409, 0.02253821, 0.05413832, 0.06466713, 0.03016177,\n",
       "         0.0457102 , 0.02672504, 0.04432494, 0.01306207, 0.03473443,\n",
       "         0.03813831, 0.04648379]),\n",
       "  'param_max_depth': masked_array(data=[3, 3, 3, 5, 5, 5, 7, 7, 7, 9, 9, 9],\n",
       "               mask=[False, False, False, False, False, False, False, False,\n",
       "                     False, False, False, False],\n",
       "         fill_value='?',\n",
       "              dtype=object),\n",
       "  'param_min_child_weight': masked_array(data=[1, 3, 5, 1, 3, 5, 1, 3, 5, 1, 3, 5],\n",
       "               mask=[False, False, False, False, False, False, False, False,\n",
       "                     False, False, False, False],\n",
       "         fill_value='?',\n",
       "              dtype=object),\n",
       "  'params': [{'max_depth': 3, 'min_child_weight': 1},\n",
       "   {'max_depth': 3, 'min_child_weight': 3},\n",
       "   {'max_depth': 3, 'min_child_weight': 5},\n",
       "   {'max_depth': 5, 'min_child_weight': 1},\n",
       "   {'max_depth': 5, 'min_child_weight': 3},\n",
       "   {'max_depth': 5, 'min_child_weight': 5},\n",
       "   {'max_depth': 7, 'min_child_weight': 1},\n",
       "   {'max_depth': 7, 'min_child_weight': 3},\n",
       "   {'max_depth': 7, 'min_child_weight': 5},\n",
       "   {'max_depth': 9, 'min_child_weight': 1},\n",
       "   {'max_depth': 9, 'min_child_weight': 3},\n",
       "   {'max_depth': 9, 'min_child_weight': 5}],\n",
       "  'split0_test_score': array([0.83049757, 0.82834471, 0.82732476, 0.83217264, 0.83195404,\n",
       "         0.83149088, 0.82586337, 0.82345418, 0.82433453, 0.82282536,\n",
       "         0.8222952 , 0.82162865]),\n",
       "  'split1_test_score': array([0.82480158, 0.82892929, 0.82749568, 0.83502018, 0.83561093,\n",
       "         0.83653541, 0.83193735, 0.82987252, 0.83342343, 0.82413948,\n",
       "         0.82415366, 0.83141325]),\n",
       "  'split2_test_score': array([0.84061175, 0.84174382, 0.84163268, 0.84499399, 0.84342424,\n",
       "         0.84438411, 0.84405665, 0.84044494, 0.83700313, 0.83531047,\n",
       "         0.83562856, 0.83735815]),\n",
       "  'split3_test_score': array([0.8487582 , 0.84870218, 0.8470785 , 0.85076263, 0.84698036,\n",
       "         0.84658112, 0.84072061, 0.84368915, 0.840008  , 0.83586185,\n",
       "         0.83761008, 0.8403619 ]),\n",
       "  'split4_test_score': array([0.84354578, 0.84411054, 0.84111158, 0.83783782, 0.84028108,\n",
       "         0.83774977, 0.83378717, 0.834923  , 0.83805098, 0.82833277,\n",
       "         0.8295159 , 0.83353659]),\n",
       "  'mean_test_score': array([0.83764298, 0.83836611, 0.83692864, 0.84015745, 0.83965013,\n",
       "         0.83934826, 0.83527303, 0.83447676, 0.83456401, 0.82929399,\n",
       "         0.82984068, 0.83285971]),\n",
       "  'std_test_score': array([0.00875401, 0.00825498, 0.0080481 , 0.00680281, 0.00536506,\n",
       "         0.00547503, 0.00646072, 0.00725786, 0.00554416, 0.0054529 ,\n",
       "         0.00605384, 0.00640634]),\n",
       "  'rank_test_score': array([ 5,  4,  6,  1,  2,  3,  7,  9,  8, 12, 11, 10]),\n",
       "  'split0_train_score': array([0.86886563, 0.86689185, 0.86677554, 0.90976638, 0.90601958,\n",
       "         0.9028305 , 0.95157417, 0.94027601, 0.93458142, 0.98129655,\n",
       "         0.96501936, 0.95469728]),\n",
       "  'split1_train_score': array([0.86755287, 0.86655408, 0.8659711 , 0.91043735, 0.90357308,\n",
       "         0.90009332, 0.95148986, 0.94040438, 0.932819  , 0.98138105,\n",
       "         0.96312889, 0.95157524]),\n",
       "  'split2_train_score': array([0.86334103, 0.86233123, 0.86173496, 0.91120379, 0.90348969,\n",
       "         0.89969052, 0.95537669, 0.94244265, 0.93138325, 0.98157116,\n",
       "         0.96391083, 0.95284025]),\n",
       "  'split3_train_score': array([0.86521283, 0.86414702, 0.8629379 , 0.90844011, 0.90548055,\n",
       "         0.90061198, 0.95571448, 0.94228276, 0.93334013, 0.98261331,\n",
       "         0.96729797, 0.95517939]),\n",
       "  'split4_train_score': array([0.86780265, 0.86587369, 0.86599227, 0.91311895, 0.90765353,\n",
       "         0.90269069, 0.95468017, 0.94232086, 0.93518693, 0.98288029,\n",
       "         0.96558066, 0.95499377]),\n",
       "  'mean_train_score': array([0.866555  , 0.86515957, 0.86468235, 0.91059332, 0.90524329,\n",
       "         0.9011834 , 0.95376707, 0.94154533, 0.93346214, 0.98194847,\n",
       "         0.96498754, 0.95385719]),\n",
       "  'std_train_score': array([0.00200112, 0.00170178, 0.00197426, 0.00155538, 0.00157054,\n",
       "         0.00132124, 0.00185534, 0.00098624, 0.00134   , 0.00066327,\n",
       "         0.0014356 , 0.00141331])},\n",
       " {'max_depth': 5, 'min_child_weight': 1},\n",
       " 0.8401574515811714)"
      ]
     },
     "execution_count": 22,
     "metadata": {},
     "output_type": "execute_result"
    }
   ],
   "source": [
    "param_test1 = {'max_depth': range(3,10,2), 'min_child_weight' : range(1,6,2)}\n",
    "gsearch1 = GridSearchCV(estimator=XGBRegressor(learning_rate=0.1, n_estimators=140, min_child_weight=1, gamma=0, subsample=0.8, colsample_bytree=0.8, objective='binary:logistic', nthread=4, scale_pos_weight=1, seed=27), param_grid=param_test1, scoring='roc_auc', n_jobs=4, iid=False, cv=5)\n",
    "gsearch1.fit(train[predictors], train[target])\n",
    "gsearch1.cv_results_, gsearch1.best_params_, gsearch1.best_score_"
   ]
  },
  {
   "cell_type": "markdown",
   "metadata": {},
   "source": [
    "    Here, we have run 12 combinations with wider intervals between values. The ideal values are 5 for max_depth and 5 for min_child_weight. Lets go one step deeper and look for optimum values. We'll search for values 1 above and below the optimum values because we took an interval of two."
   ]
  },
  {
   "cell_type": "code",
   "execution_count": 24,
   "metadata": {},
   "outputs": [
    {
     "data": {
      "text/plain": [
       "({'mean_fit_time': array([39.58219905, 40.72274766, 42.44756393, 55.36098928, 51.64990859,\n",
       "         47.94141741, 57.4793642 , 56.78457413, 49.00022144]),\n",
       "  'std_fit_time': array([ 0.82657244,  0.43098346,  1.55114821,  0.72889782,  1.51176189,\n",
       "          0.58839421,  0.99523234,  0.57803043, 11.65015997]),\n",
       "  'mean_score_time': array([0.31442051, 0.28303819, 0.40776701, 0.35339832, 0.34400349,\n",
       "         0.32481494, 0.34560332, 0.30582542, 0.27144532]),\n",
       "  'std_score_time': array([0.05738731, 0.06087649, 0.09771299, 0.04961282, 0.06748418,\n",
       "         0.01328851, 0.02426279, 0.03222429, 0.0811226 ]),\n",
       "  'param_max_depth': masked_array(data=[4, 4, 4, 5, 5, 5, 6, 6, 6],\n",
       "               mask=[False, False, False, False, False, False, False, False,\n",
       "                     False],\n",
       "         fill_value='?',\n",
       "              dtype=object),\n",
       "  'param_min_child_weight': masked_array(data=[4, 5, 6, 4, 5, 6, 4, 5, 6],\n",
       "               mask=[False, False, False, False, False, False, False, False,\n",
       "                     False],\n",
       "         fill_value='?',\n",
       "              dtype=object),\n",
       "  'params': [{'max_depth': 4, 'min_child_weight': 4},\n",
       "   {'max_depth': 4, 'min_child_weight': 5},\n",
       "   {'max_depth': 4, 'min_child_weight': 6},\n",
       "   {'max_depth': 5, 'min_child_weight': 4},\n",
       "   {'max_depth': 5, 'min_child_weight': 5},\n",
       "   {'max_depth': 5, 'min_child_weight': 6},\n",
       "   {'max_depth': 6, 'min_child_weight': 4},\n",
       "   {'max_depth': 6, 'min_child_weight': 5},\n",
       "   {'max_depth': 6, 'min_child_weight': 6}],\n",
       "  'split0_test_score': array([0.83283542, 0.83004916, 0.83201235, 0.83293752, 0.83149088,\n",
       "         0.8317192 , 0.83548905, 0.83204585, 0.82921923]),\n",
       "  'split1_test_score': array([0.83391254, 0.83337392, 0.83419779, 0.83729926, 0.83653541,\n",
       "         0.83478877, 0.83911279, 0.8321867 , 0.83290996]),\n",
       "  'split2_test_score': array([0.84594105, 0.8422756 , 0.8439295 , 0.84716058, 0.84438411,\n",
       "         0.84202131, 0.84230968, 0.84134363, 0.84241167]),\n",
       "  'split3_test_score': array([0.84743848, 0.84814695, 0.8489158 , 0.84681965, 0.84658112,\n",
       "         0.84540351, 0.84298481, 0.84405096, 0.84572985]),\n",
       "  'split4_test_score': array([0.84155259, 0.84220034, 0.84111399, 0.83931985, 0.83774977,\n",
       "         0.83962564, 0.83638896, 0.83624088, 0.83616834]),\n",
       "  'mean_test_score': array([0.84033602, 0.8392092 , 0.84003389, 0.84070737, 0.83934826,\n",
       "         0.83871169, 0.83925706, 0.83717361, 0.83728781]),\n",
       "  'std_test_score': array([0.00601434, 0.00657556, 0.00622312, 0.00553019, 0.00547503,\n",
       "         0.00491637, 0.0030219 , 0.00483157, 0.0060505 ]),\n",
       "  'rank_test_score': array([2, 6, 3, 1, 4, 7, 5, 9, 8]),\n",
       "  'split0_train_score': array([0.88583291, 0.88511442, 0.88457867, 0.90368667, 0.9028305 ,\n",
       "         0.90285749, 0.92176678, 0.91822809, 0.91804036]),\n",
       "  'split1_train_score': array([0.883906  , 0.88352683, 0.88283955, 0.90166623, 0.90009332,\n",
       "         0.89800415, 0.9206866 , 0.91763018, 0.9155998 ]),\n",
       "  'split2_train_score': array([0.88244931, 0.87971458, 0.8798372 , 0.90115244, 0.89969052,\n",
       "         0.89827784, 0.91873421, 0.91685671, 0.91379624]),\n",
       "  'split3_train_score': array([0.88099288, 0.88063255, 0.88020462, 0.90179426, 0.90061198,\n",
       "         0.89998485, 0.92046068, 0.91897962, 0.91616866]),\n",
       "  'split4_train_score': array([0.88586966, 0.88458115, 0.88315422, 0.90302353, 0.90269069,\n",
       "         0.90206184, 0.92248614, 0.91961854, 0.91712021]),\n",
       "  'mean_train_score': array([0.88381015, 0.88271391, 0.88212285, 0.90226462, 0.9011834 ,\n",
       "         0.90023723, 0.92082688, 0.91826263, 0.91614506]),\n",
       "  'std_train_score': array([0.00190427, 0.00215582, 0.00181726, 0.00093962, 0.00132124,\n",
       "         0.00195369, 0.00127825, 0.00097266, 0.0014393 ])},\n",
       " {'max_depth': 5, 'min_child_weight': 4},\n",
       " 0.8407073731353547)"
      ]
     },
     "execution_count": 24,
     "metadata": {},
     "output_type": "execute_result"
    }
   ],
   "source": [
    "param_test2 = {'max_depth': [4,5,6], 'min_child_weight' : [4,5,6]}\n",
    "gsearch2 = GridSearchCV(estimator=XGBRegressor(learning_rate=0.1, n_estimators=140, max_depth=5, min_child_weight=1, gamma=0, subsample=0.8, colsample_bytree=0.8, objective='binary:logistic', nthread=4, scale_pos_weight=1, seed=27), param_grid=param_test2, scoring='roc_auc', n_jobs=4, iid=False, cv=5)\n",
    "gsearch2.fit(train[predictors], train[target])\n",
    "gsearch2.cv_results_, gsearch2.best_params_, gsearch2.best_score_"
   ]
  },
  {
   "cell_type": "markdown",
   "metadata": {},
   "source": [
    "    Here, we get the optimum values as 4 for max_depth and 6 for min_child_weight. Also, we can see the CV score increasing slightly. Note that as the model performance increases, it becomes exponentially difficult to achieve even marginal gains in performance. You would have noticed that here we got 6 as optimum value for min_child_weight but we haven't tried values more than 6. We can do that as follow:."
   ]
  },
  {
   "cell_type": "code",
   "execution_count": 27,
   "metadata": {},
   "outputs": [
    {
     "data": {
      "text/plain": [
       "({'mean_fit_time': array([48.10186901, 48.07671881, 53.55302825, 63.03954144]),\n",
       "  'std_fit_time': array([0.57144441, 1.74842726, 2.68113616, 4.31940518]),\n",
       "  'mean_score_time': array([0.53571029, 0.37738476, 0.58986287, 0.45373955]),\n",
       "  'std_score_time': array([0.20352772, 0.10413745, 0.11043819, 0.02005686]),\n",
       "  'param_min_child_weight': masked_array(data=[6, 8, 10, 12],\n",
       "               mask=[False, False, False, False],\n",
       "         fill_value='?',\n",
       "              dtype=object),\n",
       "  'params': [{'min_child_weight': 6},\n",
       "   {'min_child_weight': 8},\n",
       "   {'min_child_weight': 10},\n",
       "   {'min_child_weight': 12}],\n",
       "  'split0_test_score': array([0.83201235, 0.83340525, 0.83067879, 0.83168662]),\n",
       "  'split1_test_score': array([0.83419779, 0.82897731, 0.83492083, 0.83252707]),\n",
       "  'split2_test_score': array([0.8439295 , 0.84173593, 0.8456376 , 0.84350531]),\n",
       "  'split3_test_score': array([0.8489158 , 0.84961027, 0.84858418, 0.84810058]),\n",
       "  'split4_test_score': array([0.84111399, 0.84071728, 0.84036809, 0.83763039]),\n",
       "  'mean_test_score': array([0.84003389, 0.83888921, 0.8400379 , 0.83868999]),\n",
       "  'std_test_score': array([0.00622312, 0.00713732, 0.0066073 , 0.00632294]),\n",
       "  'rank_test_score': array([2, 3, 1, 4]),\n",
       "  'split0_train_score': array([0.88457867, 0.8831375 , 0.8819573 , 0.88066832]),\n",
       "  'split1_train_score': array([0.88283955, 0.88066851, 0.87973147, 0.87821647]),\n",
       "  'split2_train_score': array([0.8798372 , 0.87863133, 0.87738426, 0.87666884]),\n",
       "  'split3_train_score': array([0.88020462, 0.87818332, 0.87877091, 0.87557459]),\n",
       "  'split4_train_score': array([0.88315422, 0.88185307, 0.88064076, 0.88005066]),\n",
       "  'mean_train_score': array([0.88212285, 0.88049475, 0.87969694, 0.87823578]),\n",
       "  'std_train_score': array([0.00181726, 0.00188013, 0.00156251, 0.00193642])},\n",
       " {'min_child_weight': 10},\n",
       " 0.840037896893036)"
      ]
     },
     "execution_count": 27,
     "metadata": {},
     "output_type": "execute_result"
    }
   ],
   "source": [
    "param_test2b = {'min_child_weight' : [6,8,10,12]}\n",
    "gsearch2b = GridSearchCV(estimator=XGBRegressor(learning_rate=0.1, n_estimators=140, max_depth=4, min_child_weight=1, gamma=0, subsample=0.8, colsample_bytree=0.8, objective='binary:logistic', nthread=4, scale_pos_weight=1, seed=27), param_grid=param_test2b, scoring='roc_auc', n_jobs=4, iid=False, cv=5)\n",
    "gsearch2b.fit(train[predictors], train[target])\n",
    "#modelfit(gsearch3.best_estimator_, train, predictors)\n",
    "gsearch2b.cv_results_, gsearch2b.best_params_, gsearch2b.best_score_"
   ]
  },
  {
   "cell_type": "markdown",
   "metadata": {},
   "source": [
    "### Step 3: Tune gamma\n",
    "\n",
    "    Now lets tune gamma value using the parameters already tuned above. Gamma can take various values but I'll check for 5 values here. You can go into more precise values as."
   ]
  },
  {
   "cell_type": "code",
   "execution_count": 31,
   "metadata": {},
   "outputs": [
    {
     "data": {
      "text/plain": [
       "({'mean_fit_time': array([44.89836221, 50.70484891, 44.26295176, 43.99833622, 38.42790899]),\n",
       "  'std_fit_time': array([ 5.12300464,  4.77974638,  0.43862659,  0.64455825, 11.8526178 ]),\n",
       "  'mean_score_time': array([1.2970016 , 0.43155413, 0.5061111 , 0.42255864, 0.33381062]),\n",
       "  'std_score_time': array([0.46544981, 0.09758294, 0.31706985, 0.15255274, 0.17766576]),\n",
       "  'param_gamma': masked_array(data=[0.0, 0.1, 0.2, 0.3, 0.4],\n",
       "               mask=[False, False, False, False, False],\n",
       "         fill_value='?',\n",
       "              dtype=object),\n",
       "  'params': [{'gamma': 0.0},\n",
       "   {'gamma': 0.1},\n",
       "   {'gamma': 0.2},\n",
       "   {'gamma': 0.3},\n",
       "   {'gamma': 0.4}],\n",
       "  'split0_test_score': array([0.83201235, 0.83327342, 0.83161082, 0.8311328 , 0.83284571]),\n",
       "  'split1_test_score': array([0.83419779, 0.83359058, 0.83324919, 0.83291808, 0.83496816]),\n",
       "  'split2_test_score': array([0.8439295 , 0.8448792 , 0.84380819, 0.84269099, 0.8439741 ]),\n",
       "  'split3_test_score': array([0.8489158 , 0.8480705 , 0.84790888, 0.85000893, 0.84828825]),\n",
       "  'split4_test_score': array([0.84111399, 0.84102273, 0.84157429, 0.84195493, 0.83970978]),\n",
       "  'mean_test_score': array([0.84003389, 0.84016729, 0.83963027, 0.83974115, 0.8399572 ]),\n",
       "  'std_test_score': array([0.00622312, 0.00593588, 0.00624179, 0.00692369, 0.00567568]),\n",
       "  'rank_test_score': array([2, 1, 5, 4, 3]),\n",
       "  'split0_train_score': array([0.88457867, 0.88391467, 0.88321783, 0.88382441, 0.88354506]),\n",
       "  'split1_train_score': array([0.88283955, 0.88179279, 0.88258724, 0.88174709, 0.8814104 ]),\n",
       "  'split2_train_score': array([0.8798372 , 0.87925972, 0.87995575, 0.87974305, 0.87868592]),\n",
       "  'split3_train_score': array([0.88020462, 0.88002486, 0.8800143 , 0.87972546, 0.88026457]),\n",
       "  'split4_train_score': array([0.88315422, 0.88179967, 0.88309449, 0.88312691, 0.8830839 ]),\n",
       "  'mean_train_score': array([0.88212285, 0.88135834, 0.88177392, 0.88163338, 0.88139797]),\n",
       "  'std_train_score': array([0.00181726, 0.00161868, 0.00147596, 0.00168865, 0.00179401])},\n",
       " {'gamma': 0.1},\n",
       " 0.8401672862430356)"
      ]
     },
     "execution_count": 31,
     "metadata": {},
     "output_type": "execute_result"
    }
   ],
   "source": [
    "param_test3 = {'gamma':[i/10.0 for i in range (0,5)]}\n",
    "gsearch3 = GridSearchCV(estimator=XGBRegressor(learning_rate=0.1, n_estimators=140, max_depth=4, min_child_weight=6, gamma=0, subsample=0.8, colsample_bytree=0.8, objective='binary:logistic', nthread=4, scale_pos_weight=1, seed=27), param_grid=param_test3, scoring='roc_auc', n_jobs=4, iid=False, cv=5)\n",
    "gsearch3.fit(train[predictors], train[target])\n",
    "gsearch3.cv_results_, gsearch3.best_params_, gsearch3.best_score_"
   ]
  },
  {
   "cell_type": "markdown",
   "metadata": {},
   "source": [
    "    This shows that our original value of gamma, i.e. 0 is the optimum one. Before proceeding, a good idea would be to re-calibrate the number of boosting rounds for the updated parameters."
   ]
  },
  {
   "cell_type": "code",
   "execution_count": 33,
   "metadata": {},
   "outputs": [
    {
     "name": "stdout",
     "output_type": "stream",
     "text": [
      "\n",
      "Model Report\n",
      "Accuracy: 0.9854\n",
      "AUC Score(Train): 0.887744\n"
     ]
    },
    {
     "data": {
      "image/png": "[encoded data removed]",
      "text/plain": [
       "<Figure size 864x288 with 1 Axes>"
      ]
     },
     "metadata": {
      "needs_background": "light"
     },
     "output_type": "display_data"
    }
   ],
   "source": [
    "xgb2 = XGBRegressor(learning_rate=0.1, n_estimators=1000, max_depth=5, min_child_weight=10, gamma=0.1, subsample=0.8, colsample_bytree=0.8, objective='binary:logistic', nthread=4, scale_pos_weight=1, seed=27)\n",
    "modelfit(xgb2, train, predictors)"
   ]
  },
  {
   "cell_type": "markdown",
   "metadata": {},
   "source": [
    "    Here, we can see the improvement in score. So the final parameters are:\n",
    "\n",
    "- max_depth: 4\n",
    "- min_child_weight: 6\n",
    "- gamma: 0\n",
    "\n",
    "### Step 4: Tune subsample and colsample_bytree\n",
    "\n",
    "    The next step would be try different subsample and colsample_bytree values. Lets do this in 2 stages as well and take values 0.6,0.7,0.8,0.9 for both to start with."
   ]
  },
  {
   "cell_type": "code",
   "execution_count": 34,
   "metadata": {},
   "outputs": [
    {
     "data": {
      "text/plain": [
       "({'mean_fit_time': array([61.79436851, 57.39562778, 59.274155  , 58.62923455, 66.99917316,\n",
       "         59.56138067, 55.48371992, 53.07529535, 62.27444248, 60.41090627,\n",
       "         58.80122528, 57.88195004, 68.58923612, 67.92757993, 64.63865752,\n",
       "         63.49138432]),\n",
       "  'std_fit_time': array([2.35156538, 1.93614517, 1.25768802, 0.92647337, 2.948185  ,\n",
       "         3.19896715, 0.91267379, 0.66477072, 0.74251889, 0.49966258,\n",
       "         0.48834788, 0.17739882, 0.7858427 , 1.39418186, 0.67685765,\n",
       "         0.61624246]),\n",
       "  'mean_score_time': array([0.61285033, 0.5171051 , 0.46753268, 0.56247854, 0.37578502,\n",
       "         0.37098827, 0.40217047, 0.3334094 , 0.32541528, 0.38538017,\n",
       "         0.32141705, 0.35120063, 0.38378124, 0.46673365, 0.35659637,\n",
       "         0.37838345]),\n",
       "  'std_score_time': array([0.27937013, 0.16867759, 0.18464235, 0.09819539, 0.0587913 ,\n",
       "         0.05659069, 0.09722902, 0.02430463, 0.03601092, 0.06073924,\n",
       "         0.0066177 , 0.04739853, 0.05068211, 0.08979647, 0.03385964,\n",
       "         0.10803938]),\n",
       "  'param_colsample_bytree': masked_array(data=[0.6, 0.6, 0.6, 0.6, 0.7, 0.7, 0.7, 0.7, 0.8, 0.8, 0.8,\n",
       "                     0.8, 0.9, 0.9, 0.9, 0.9],\n",
       "               mask=[False, False, False, False, False, False, False, False,\n",
       "                     False, False, False, False, False, False, False, False],\n",
       "         fill_value='?',\n",
       "              dtype=object),\n",
       "  'param_subsample': masked_array(data=[0.6, 0.7, 0.8, 0.9, 0.6, 0.7, 0.8, 0.9, 0.6, 0.7, 0.8,\n",
       "                     0.9, 0.6, 0.7, 0.8, 0.9],\n",
       "               mask=[False, False, False, False, False, False, False, False,\n",
       "                     False, False, False, False, False, False, False, False],\n",
       "         fill_value='?',\n",
       "              dtype=object),\n",
       "  'params': [{'colsample_bytree': 0.6, 'subsample': 0.6},\n",
       "   {'colsample_bytree': 0.6, 'subsample': 0.7},\n",
       "   {'colsample_bytree': 0.6, 'subsample': 0.8},\n",
       "   {'colsample_bytree': 0.6, 'subsample': 0.9},\n",
       "   {'colsample_bytree': 0.7, 'subsample': 0.6},\n",
       "   {'colsample_bytree': 0.7, 'subsample': 0.7},\n",
       "   {'colsample_bytree': 0.7, 'subsample': 0.8},\n",
       "   {'colsample_bytree': 0.7, 'subsample': 0.9},\n",
       "   {'colsample_bytree': 0.8, 'subsample': 0.6},\n",
       "   {'colsample_bytree': 0.8, 'subsample': 0.7},\n",
       "   {'colsample_bytree': 0.8, 'subsample': 0.8},\n",
       "   {'colsample_bytree': 0.8, 'subsample': 0.9},\n",
       "   {'colsample_bytree': 0.9, 'subsample': 0.6},\n",
       "   {'colsample_bytree': 0.9, 'subsample': 0.7},\n",
       "   {'colsample_bytree': 0.9, 'subsample': 0.8},\n",
       "   {'colsample_bytree': 0.9, 'subsample': 0.9}],\n",
       "  'split0_test_score': array([0.8289932 , 0.82970491, 0.8332134 , 0.82978174, 0.82666484,\n",
       "         0.82801189, 0.83058778, 0.83251644, 0.82348882, 0.82455839,\n",
       "         0.83056731, 0.83293317, 0.82461236, 0.82787869, 0.83164351,\n",
       "         0.83172355]),\n",
       "  'split1_test_score': array([0.8333482 , 0.83489133, 0.83441022, 0.83332121, 0.83223106,\n",
       "         0.83426856, 0.83559424, 0.8325321 , 0.83448637, 0.83881907,\n",
       "         0.83501858, 0.83607843, 0.8361827 , 0.8349892 , 0.83509484,\n",
       "         0.83435649]),\n",
       "  'split2_test_score': array([0.8424542 , 0.84654236, 0.84799114, 0.8463497 , 0.84277023,\n",
       "         0.84706134, 0.84677252, 0.84478601, 0.84884764, 0.84101537,\n",
       "         0.84470232, 0.84740069, 0.8449518 , 0.84268482, 0.84560364,\n",
       "         0.84812114]),\n",
       "  'split3_test_score': array([0.84737362, 0.85019489, 0.84812181, 0.84805891, 0.85232054,\n",
       "         0.84974308, 0.84734286, 0.84907788, 0.84902577, 0.84830295,\n",
       "         0.84580791, 0.84632606, 0.84772476, 0.84542337, 0.84619222,\n",
       "         0.84623045]),\n",
       "  'split4_test_score': array([0.83227782, 0.83161159, 0.8315209 , 0.83605917, 0.8339326 ,\n",
       "         0.8333667 , 0.83305746, 0.8357481 , 0.83552724, 0.83334925,\n",
       "         0.83483989, 0.83785802, 0.83503721, 0.83339563, 0.83471477,\n",
       "         0.83706231]),\n",
       "  'mean_test_score': array([0.83688941, 0.83858901, 0.83905149, 0.83871415, 0.83758385,\n",
       "         0.83849031, 0.83867097, 0.8389321 , 0.83827517, 0.83720901,\n",
       "         0.8381872 , 0.84011928, 0.83770177, 0.83687434, 0.8386498 ,\n",
       "         0.83949878]),\n",
       "  'std_test_score': array([0.00688539, 0.00823695, 0.00740976, 0.00723252, 0.00900308,\n",
       "         0.00841379, 0.00703068, 0.00677442, 0.00967362, 0.00793841,\n",
       "         0.00599715, 0.00573803, 0.00817023, 0.00637847, 0.00604077,\n",
       "         0.00651911]),\n",
       "  'rank_test_score': array([15,  8,  3,  5, 13,  9,  6,  4, 10, 14, 11,  1, 12, 16,  7,  2]),\n",
       "  'split0_train_score': array([0.90053903, 0.90175034, 0.90162165, 0.90101747, 0.90044163,\n",
       "         0.90345233, 0.90295396, 0.90303711, 0.90222201, 0.90463628,\n",
       "         0.90471018, 0.90328061, 0.90165991, 0.90495126, 0.90440756,\n",
       "         0.90301574]),\n",
       "  'split1_train_score': array([0.89650546, 0.89926287, 0.89964155, 0.89890197, 0.89709752,\n",
       "         0.90052287, 0.90073338, 0.9005249 , 0.89902511, 0.90169793,\n",
       "         0.90205094, 0.90184585, 0.90035455, 0.90328994, 0.90402094,\n",
       "         0.90197491]),\n",
       "  'split2_train_score': array([0.89518556, 0.89754988, 0.90004556, 0.89923324, 0.89847375,\n",
       "         0.89995065, 0.8990235 , 0.90032427, 0.89964449, 0.90236367,\n",
       "         0.90161209, 0.90140366, 0.9003606 , 0.90165514, 0.90076321,\n",
       "         0.90047773]),\n",
       "  'split3_train_score': array([0.89763213, 0.89901278, 0.90025089, 0.90030309, 0.89878925,\n",
       "         0.9023982 , 0.90200666, 0.90016561, 0.89946508, 0.90416476,\n",
       "         0.9026275 , 0.90145023, 0.90144384, 0.90361921, 0.90219816,\n",
       "         0.90226043]),\n",
       "  'split4_train_score': array([0.9003434 , 0.90179753, 0.90422767, 0.90077604, 0.90133633,\n",
       "         0.9043615 , 0.90509522, 0.90158393, 0.90285245, 0.90439993,\n",
       "         0.90471571, 0.90348875, 0.90452579, 0.90604992, 0.90442085,\n",
       "         0.90341064]),\n",
       "  'mean_train_score': array([0.89804112, 0.89987468, 0.90115746, 0.90004636, 0.89922769,\n",
       "         0.90213711, 0.90196254, 0.90112716, 0.90064183, 0.90345252,\n",
       "         0.90314328, 0.90229382, 0.90166894, 0.90391309, 0.90316215,\n",
       "         0.90222789]),\n",
       "  'std_train_score': array([0.00210807, 0.00165755, 0.00167319, 0.00083812, 0.00149789,\n",
       "         0.0016812 , 0.00204682, 0.00107596, 0.00157334, 0.00118915,\n",
       "         0.00132148, 0.00090624, 0.00152654, 0.00149779, 0.00145307,\n",
       "         0.00101467])},\n",
       " {'colsample_bytree': 0.8, 'subsample': 0.9},\n",
       " 0.8401192763712496)"
      ]
     },
     "execution_count": 34,
     "metadata": {},
     "output_type": "execute_result"
    }
   ],
   "source": [
    "param_test4 = {'subsample':[i/10.0 for i in range(6,10)], 'colsample_bytree':[i/10.0 for i in range(6,10)]}\n",
    "gsearch4 = GridSearchCV(estimator=XGBRegressor(learning_rate=0.1, n_estimators=177, max_depth=5, min_child_weight=10, gamma=0.1, subsample=0.8, colsample_bytree=0.8, objective='binary:logistic', nthread=4, scale_pos_weight=1, seed=27), param_grid=param_test4, scoring='roc_auc', n_jobs=4, iid=False, cv=5)\n",
    "gsearch4.fit(train[predictors], train[target])\n",
    "gsearch4.cv_results_, gsearch4.best_params_, gsearch4.best_score_"
   ]
  },
  {
   "cell_type": "markdown",
   "metadata": {},
   "source": [
    "    Here, we found 0.8 as the optimum value for both subsample and colsample_bytree. Now we should try values in 0.05 interval around these."
   ]
  },
  {
   "cell_type": "code",
   "execution_count": 38,
   "metadata": {},
   "outputs": [
    {
     "data": {
      "text/plain": [
       "({'mean_fit_time': array([52.82796626, 57.68246379, 56.64165773, 60.16424632, 60.81008029,\n",
       "         64.15276895, 68.09211946, 68.81410799, 60.82946677]),\n",
       "  'std_fit_time': array([ 3.04862417,  0.69931354,  1.47606196,  1.39040762,  2.2989058 ,\n",
       "          0.46063571,  1.9428249 ,  1.26422133, 19.49282346]),\n",
       "  'mean_score_time': array([0.45274134, 0.53369603, 0.37598557, 0.36978965, 0.37398477,\n",
       "         0.42255931, 0.48872166, 0.46693392, 0.27904081]),\n",
       "  'std_score_time': array([0.1366038 , 0.20323708, 0.07020068, 0.02926161, 0.0535539 ,\n",
       "         0.07751746, 0.18541453, 0.03917676, 0.07469364]),\n",
       "  'param_colsample_bytree': masked_array(data=[0.75, 0.75, 0.75, 0.8, 0.8, 0.8, 0.85, 0.85, 0.85],\n",
       "               mask=[False, False, False, False, False, False, False, False,\n",
       "                     False],\n",
       "         fill_value='?',\n",
       "              dtype=object),\n",
       "  'param_subsample': masked_array(data=[0.75, 0.8, 0.85, 0.75, 0.8, 0.85, 0.75, 0.8, 0.85],\n",
       "               mask=[False, False, False, False, False, False, False, False,\n",
       "                     False],\n",
       "         fill_value='?',\n",
       "              dtype=object),\n",
       "  'params': [{'colsample_bytree': 0.75, 'subsample': 0.75},\n",
       "   {'colsample_bytree': 0.75, 'subsample': 0.8},\n",
       "   {'colsample_bytree': 0.75, 'subsample': 0.85},\n",
       "   {'colsample_bytree': 0.8, 'subsample': 0.75},\n",
       "   {'colsample_bytree': 0.8, 'subsample': 0.8},\n",
       "   {'colsample_bytree': 0.8, 'subsample': 0.85},\n",
       "   {'colsample_bytree': 0.85, 'subsample': 0.75},\n",
       "   {'colsample_bytree': 0.85, 'subsample': 0.8},\n",
       "   {'colsample_bytree': 0.85, 'subsample': 0.85}],\n",
       "  'split0_test_score': array([0.82941668, 0.83192969, 0.83051781, 0.82694712, 0.83056731,\n",
       "         0.83099022, 0.8244667 , 0.83010038, 0.82788715]),\n",
       "  'split1_test_score': array([0.83721066, 0.83573224, 0.83521546, 0.83373944, 0.83501858,\n",
       "         0.8358843 , 0.8391097 , 0.83530669, 0.83552027]),\n",
       "  'split2_test_score': array([0.8449119 , 0.84910102, 0.84818334, 0.84655048, 0.84470232,\n",
       "         0.84584432, 0.8454701 , 0.84444803, 0.84824748]),\n",
       "  'split3_test_score': array([0.84789407, 0.84565604, 0.84599662, 0.84659478, 0.84580791,\n",
       "         0.8468829 , 0.847559  , 0.84827299, 0.84685857]),\n",
       "  'split4_test_score': array([0.83244472, 0.83253965, 0.83452606, 0.83147361, 0.83483989,\n",
       "         0.83598559, 0.83177791, 0.83381368, 0.83591132]),\n",
       "  'mean_test_score': array([0.8383756 , 0.83899173, 0.83888786, 0.83706109, 0.8381872 ,\n",
       "         0.83911747, 0.83767668, 0.83838836, 0.83888496]),\n",
       "  'std_test_score': array([0.00707275, 0.00705318, 0.00692113, 0.00806828, 0.00599715,\n",
       "         0.00619462, 0.00859942, 0.00683433, 0.00764658]),\n",
       "  'rank_test_score': array([6, 2, 3, 9, 7, 1, 8, 5, 4]),\n",
       "  'split0_train_score': array([0.90493332, 0.9038669 , 0.90473665, 0.9057861 , 0.90471018,\n",
       "         0.90231942, 0.90581468, 0.90407214, 0.90500921]),\n",
       "  'split1_train_score': array([0.90104297, 0.90254427, 0.90223251, 0.90315294, 0.90205094,\n",
       "         0.90154261, 0.90385964, 0.90229498, 0.9034022 ]),\n",
       "  'split2_train_score': array([0.89968387, 0.90036926, 0.90175136, 0.89993929, 0.90161209,\n",
       "         0.90105204, 0.9026619 , 0.90206487, 0.90141517]),\n",
       "  'split3_train_score': array([0.90165568, 0.9025455 , 0.90291956, 0.90232829, 0.9026275 ,\n",
       "         0.90427373, 0.90321675, 0.90383823, 0.90355201]),\n",
       "  'split4_train_score': array([0.90455084, 0.9041422 , 0.90500465, 0.90586841, 0.90471571,\n",
       "         0.9045531 , 0.90390109, 0.9064953 , 0.90374677]),\n",
       "  'mean_train_score': array([0.90237334, 0.90269363, 0.90332895, 0.90341501, 0.90314328,\n",
       "         0.90274818, 0.90389081, 0.9037531 , 0.90342507]),\n",
       "  'std_train_score': array([0.00204026, 0.00133581, 0.00131516, 0.00223479, 0.00132148,\n",
       "         0.00142121, 0.00106461, 0.00158776, 0.00115493])},\n",
       " {'colsample_bytree': 0.8, 'subsample': 0.85},\n",
       " 0.8391174679508259)"
      ]
     },
     "execution_count": 38,
     "metadata": {},
     "output_type": "execute_result"
    }
   ],
   "source": [
    "param_test5 = {'subsample':[i/100.0 for i in range(75,90,5)], 'colsample_bytree':[i/100.0 for i in range(75,90,5)]}\n",
    "gsearch5 = GridSearchCV(estimator=XGBRegressor(learning_rate=0.1, n_estimators=177, max_depth=5, min_child_weight=10, gamma=0.1, subsample=0.8, colsample_bytree=0.9, objective='binary:logistic', nthread=4, scale_pos_weight=1, seed=27), param_grid=param_test5, scoring='roc_auc', n_jobs=4, iid=False, cv=5)\n",
    "gsearch5.fit(train[predictors], train[target])\n",
    "gsearch5.cv_results_, gsearch5.best_params_, gsearch5.best_score_"
   ]
  },
  {
   "cell_type": "markdown",
   "metadata": {},
   "source": [
    "    Again we got the same values as before. Thus the optimum values are:\n",
    "\n",
    "- subsample: 0.8\n",
    "- colsample_bytree: 0.8"
   ]
  },
  {
   "cell_type": "markdown",
   "metadata": {},
   "source": [
    "### Step 5: Tuning Regularization Parameters\n",
    "\n",
    "    Next step is to apply regularization to reduce overfitting. Though many people don't use this parameters much as gamma provides a substantial way of controlling complexity. But we should always try it. I'll tune 'reg_alpha' value here and leave it upto you to try different values of 'reg_lambda'."
   ]
  },
  {
   "cell_type": "code",
   "execution_count": 39,
   "metadata": {},
   "outputs": [
    {
     "data": {
      "text/plain": [
       "({'mean_fit_time': array([63.47786546, 68.5708457 , 70.08138351, 69.32381692, 27.31020684]),\n",
       "  'std_fit_time': array([2.92652704, 2.61154883, 2.03145926, 1.35359139, 6.10219985]),\n",
       "  'mean_score_time': array([0.52270236, 0.36379266, 0.36399264, 0.44754481, 0.27364345]),\n",
       "  'std_score_time': array([0.31884951, 0.05708148, 0.04472944, 0.10218336, 0.11043669]),\n",
       "  'param_reg_alpha': masked_array(data=[1e-05, 0.01, 0.1, 1, 100],\n",
       "               mask=[False, False, False, False, False],\n",
       "         fill_value='?',\n",
       "              dtype=object),\n",
       "  'params': [{'reg_alpha': 1e-05},\n",
       "   {'reg_alpha': 0.01},\n",
       "   {'reg_alpha': 0.1},\n",
       "   {'reg_alpha': 1},\n",
       "   {'reg_alpha': 100}],\n",
       "  'split0_test_score': array([0.83010084, 0.82974973, 0.83591928, 0.83193357, 0.78760521]),\n",
       "  'split1_test_score': array([0.83530669, 0.83783159, 0.83544927, 0.83578426, 0.79276705]),\n",
       "  'split2_test_score': array([0.84444803, 0.84283883, 0.84375045, 0.84468448, 0.81610361]),\n",
       "  'split3_test_score': array([0.84827322, 0.84708367, 0.84471891, 0.8451108 , 0.82937494]),\n",
       "  'split4_test_score': array([0.83381345, 0.83293946, 0.83473566, 0.83925844, 0.81954814]),\n",
       "  'mean_test_score': array([0.83838845, 0.83808865, 0.83891471, 0.83935431, 0.80907979]),\n",
       "  'std_test_score': array([0.00683432, 0.00631811, 0.0043708 , 0.00508664, 0.01611258]),\n",
       "  'rank_test_score': array([3, 4, 2, 1, 5]),\n",
       "  'split0_train_score': array([0.90407208, 0.90496485, 0.90477356, 0.90180887, 0.81915472]),\n",
       "  'split1_train_score': array([0.90229491, 0.90245509, 0.90172637, 0.89960752, 0.81700188]),\n",
       "  'split2_train_score': array([0.90206484, 0.9023624 , 0.9003759 , 0.89891024, 0.8127187 ]),\n",
       "  'split3_train_score': array([0.90383822, 0.90271949, 0.90191778, 0.90094734, 0.80802792]),\n",
       "  'split4_train_score': array([0.90649533, 0.90524993, 0.90495704, 0.90184653, 0.81230183]),\n",
       "  'mean_train_score': array([0.90375308, 0.90355035, 0.90275013, 0.9006241 , 0.81384101]),\n",
       "  'std_train_score': array([0.00158779, 0.00127988, 0.0018079 , 0.00118095, 0.00388966])},\n",
       " {'reg_alpha': 1},\n",
       " 0.839354308888295)"
      ]
     },
     "execution_count": 39,
     "metadata": {},
     "output_type": "execute_result"
    }
   ],
   "source": [
    "param_test6 = {'reg_alpha':[1e-5, 1e-2, 0.1, 1, 100]}\n",
    "gsearch6 = GridSearchCV(estimator=XGBRegressor(learning_rate=0.1, n_estimators=177, max_depth=5, min_child_weight=10, gamma=0.1, subsample=0.8, colsample_bytree=0.85, objective='binary:logistic', nthread=4, scale_pos_weight=1, seed=27), param_grid=param_test6, scoring='roc_auc', n_jobs=4, iid=False, cv=5)\n",
    "gsearch6.fit(train[predictors], train[target])\n",
    "gsearch6.cv_results_, gsearch6.best_params_, gsearch6.best_score_"
   ]
  },
  {
   "cell_type": "markdown",
   "metadata": {},
   "source": [
    "    We can see that the CV score is less than the previous case. But the values tried are very widespread, we should try values closer to the optimum here (0.01) to see if we get something better"
   ]
  },
  {
   "cell_type": "code",
   "execution_count": 40,
   "metadata": {},
   "outputs": [
    {
     "data": {
      "text/plain": [
       "({'mean_fit_time': array([61.40049162, 65.18459682, 64.78688669, 67.95601726, 61.52227283]),\n",
       "  'std_fit_time': array([ 2.30485064,  0.71672984,  0.8746015 ,  1.00858905, 19.33938783]),\n",
       "  'mean_score_time': array([0.44054909, 0.43255301, 0.41696315, 0.38558016, 0.33200955]),\n",
       "  'std_score_time': array([0.09376114, 0.14965263, 0.07038175, 0.07163978, 0.05260262]),\n",
       "  'param_reg_alpha': masked_array(data=[0, 0.001, 0.005, 0.01, 0.05],\n",
       "               mask=[False, False, False, False, False],\n",
       "         fill_value='?',\n",
       "              dtype=object),\n",
       "  'params': [{'reg_alpha': 0},\n",
       "   {'reg_alpha': 0.001},\n",
       "   {'reg_alpha': 0.005},\n",
       "   {'reg_alpha': 0.01},\n",
       "   {'reg_alpha': 0.05}],\n",
       "  'split0_test_score': array([0.83010038, 0.83010427, 0.82940045, 0.82974973, 0.83021494]),\n",
       "  'split1_test_score': array([0.83530669, 0.83529938, 0.83516824, 0.83783159, 0.83524187]),\n",
       "  'split2_test_score': array([0.84444803, 0.84722782, 0.84606671, 0.84283883, 0.84419877]),\n",
       "  'split3_test_score': array([0.84827299, 0.8482762 , 0.8455424 , 0.84708367, 0.84616306]),\n",
       "  'split4_test_score': array([0.83381368, 0.83381345, 0.83609981, 0.83293946, 0.83508324]),\n",
       "  'mean_test_score': array([0.83838836, 0.83894422, 0.83845552, 0.83808865, 0.83818038]),\n",
       "  'std_test_score': array([0.00683433, 0.00739538, 0.00642657, 0.00631811, 0.00602693]),\n",
       "  'rank_test_score': array([3, 1, 2, 5, 4]),\n",
       "  'split0_train_score': array([0.90407214, 0.90406964, 0.90538557, 0.90496485, 0.90339227]),\n",
       "  'split1_train_score': array([0.90229498, 0.90229281, 0.9016639 , 0.90245509, 0.90262623]),\n",
       "  'split2_train_score': array([0.90206487, 0.90082211, 0.90091947, 0.9023624 , 0.90153282]),\n",
       "  'split3_train_score': array([0.90383823, 0.90383602, 0.90371593, 0.90271949, 0.90261804]),\n",
       "  'split4_train_score': array([0.9064953 , 0.90649591, 0.90506757, 0.90524993, 0.90433122]),\n",
       "  'mean_train_score': array([0.9037531 , 0.9035033 , 0.90335049, 0.90355035, 0.90290012]),\n",
       "  'std_train_score': array([0.00158776, 0.00189954, 0.00178762, 0.00127988, 0.00092891])},\n",
       " {'reg_alpha': 0.001},\n",
       " 0.8389442236993997)"
      ]
     },
     "execution_count": 40,
     "metadata": {},
     "output_type": "execute_result"
    }
   ],
   "source": [
    "param_test7 = {'reg_alpha':[0, 0.001, 0.005, 0.01, 0.05]}\n",
    "gsearch7 = GridSearchCV(estimator=XGBRegressor(learning_rate=0.1, n_estimators=177, max_depth=5, min_child_weight=10, gamma=0.1, subsample=0.8, colsample_bytree=0.85, objective='binary:logistic', nthread=4, scale_pos_weight=1, seed=27), param_grid=param_test7, scoring='roc_auc', n_jobs=4, iid=False, cv=5)\n",
    "gsearch7.fit(train[predictors], train[target])\n",
    "gsearch7.cv_results_, gsearch7.best_params_, gsearch7.best_score_"
   ]
  },
  {
   "cell_type": "markdown",
   "metadata": {},
   "source": [
    "    You can see that we got a better CV. Now we can apply this regularization in the model and look at the impact:"
   ]
  },
  {
   "cell_type": "code",
   "execution_count": 41,
   "metadata": {},
   "outputs": [
    {
     "name": "stdout",
     "output_type": "stream",
     "text": [
      "\n",
      "Model Report\n",
      "Accuracy: 0.9854\n",
      "AUC Score(Train): 0.900136\n"
     ]
    },
    {
     "data": {
      "image/png": "[encoded data removed]",
      "text/plain": [
       "<Figure size 864x288 with 1 Axes>"
      ]
     },
     "metadata": {
      "needs_background": "light"
     },
     "output_type": "display_data"
    }
   ],
   "source": [
    "xgb3 = XGBRegressor(learning_rate=0.1, n_estimators=1000, max_depth=5, min_child_weigth=10, gamma=0.1, subsample=0.8, colsample_bytree=0.85, reg_alpha=0.001, objective='binary:logistic', nthread=4, scale_pos_weight=1, seed=27)\n",
    "modelfit(xgb3, train, predictors)"
   ]
  },
  {
   "cell_type": "markdown",
   "metadata": {},
   "source": [
    "    Again we can see slight improvement in the score.\n",
    "\n",
    "### Step 6: Reducing Learning Rate\n",
    "\n",
    "    Lastly, we should lower the learning rate and add more trees. Lets use the cv function of XGBoost to do the job again"
   ]
  },
  {
   "cell_type": "code",
   "execution_count": 42,
   "metadata": {},
   "outputs": [
    {
     "name": "stdout",
     "output_type": "stream",
     "text": [
      "\n",
      "Model Report\n",
      "Accuracy: 0.9854\n",
      "AUC Score(Train): 0.888492\n"
     ]
    },
    {
     "data": {
      "image/png": "[encoded data removed]",
      "text/plain": [
       "<Figure size 864x288 with 1 Axes>"
      ]
     },
     "metadata": {
      "needs_background": "light"
     },
     "output_type": "display_data"
    }
   ],
   "source": [
    "xgb4 = XGBRegressor(learning_rate=0.01, n_estimators=1000, max_depth=5, min_child_weigth=10, gamma=0.1, subsample=0.8, colsample_bytree=0.85, reg_alpha=0.001, objective='binary:logistic', nthread=4, scale_pos_weight=1, seed=27)\n",
    "modelfit(xgb4, train, predictors)"
   ]
  },
  {
   "cell_type": "markdown",
   "metadata": {},
   "source": [
    "    Now we can see a significant boost in performance and the effect of parameter tuning is clearer. As we come to the end, I would like to share 2 key thoughts:\n",
    "\n",
    "1. It is difficult to get a very big leap in performance by just using parameter tuning or slightly better models. The max score for GBM was 0.8487 while XGBoost gave 0.8494. This is a decent improvement but not something very substantial.\n",
    "2. A significant jump can be obtained by other methods like feature engineering, creating ensemble of models, stacking, etc"
   ]
  },
  {
   "cell_type": "code",
   "execution_count": null,
   "metadata": {},
   "outputs": [],
   "source": []
  }
 ],
 "metadata": {
  "kernelspec": {
   "display_name": "Python 3",
   "language": "python",
   "name": "python3"
  },
  "language_info": {
   "codemirror_mode": {
    "name": "ipython",
    "version": 3
   },
   "file_extension": ".py",
   "mimetype": "text/x-python",
   "name": "python",
   "nbconvert_exporter": "python",
   "pygments_lexer": "ipython3",
   "version": "3.7.4"
  },
  "toc": {
   "base_numbering": 1,
   "nav_menu": {},
   "number_sections": true,
   "sideBar": true,
   "skip_h1_title": false,
   "title_cell": "Table of Contents",
   "title_sidebar": "Contents",
   "toc_cell": false,
   "toc_position": {},
   "toc_section_display": true,
   "toc_window_display": false
  }
 },
 "nbformat": 4,
 "nbformat_minor": 2
}
